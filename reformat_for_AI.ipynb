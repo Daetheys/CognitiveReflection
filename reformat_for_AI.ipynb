{
 "cells": [
  {
   "cell_type": "code",
   "execution_count": 16,
   "metadata": {},
   "outputs": [
    {
     "data": {
      "text/plain": [
       "3532"
      ]
     },
     "execution_count": 16,
     "metadata": {},
     "output_type": "execute_result"
    }
   ],
   "source": [
    "import seaborn as sns\n",
    "import matplotlib.pyplot as plt\n",
    "import pingouin as pg\n",
    "import pandas as pd\n",
    "import language_tool_python as ltp\n",
    "import numpy as np\n",
    "\n",
    "sns.set({'figure.figsize':(3, 3)})\n",
    "\n",
    "fname = './H+GPT3/dv2_all_final_disguise_mistakes_correct.csv'\n",
    "df = pd.read_csv(fname)\n",
    "\n",
    "df = df[df.source=='AI']\n",
    "df['len'] = df['lena1']\n",
    "df['correctness'] = df['corra1']\n",
    "df2 = df.copy()\n",
    "df2['a1'] = df2['a2']\n",
    "df2['len'] = df2['lena2']\n",
    "df2['correctness'] = df2['corra2']\n",
    "df2['source'] = 'AI_humanized'\n",
    "df = pd.concat([df, df2])\n",
    "# all of the above in one line:\n",
    "df = df.drop(columns=['a2', 'lena2', 'lena1', 'corra2', 'corra1', 'q2', 'len', 'correctness'])\n",
    "df = df.loc[:, ~df.columns.str.contains('^Unnamed')]\n",
    "df.to_csv('dv2_full_ai.csv')\n",
    "df.shape[0]\n",
    "# plt.show()\n",
    "# sns.barplot(x='source', y='len', data=df)\n"
   ]
  }
 ],
 "metadata": {
  "kernelspec": {
   "display_name": "venv",
   "language": "python",
   "name": "python3"
  },
  "language_info": {
   "codemirror_mode": {
    "name": "ipython",
    "version": 3
   },
   "file_extension": ".py",
   "mimetype": "text/x-python",
   "name": "python",
   "nbconvert_exporter": "python",
   "pygments_lexer": "ipython3",
   "version": "3.8.10"
  },
  "orig_nbformat": 4
 },
 "nbformat": 4,
 "nbformat_minor": 2
}
