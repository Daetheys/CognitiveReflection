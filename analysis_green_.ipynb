{
 "cells": [
  {
   "cell_type": "code",
   "execution_count": 2,
   "metadata": {},
   "outputs": [
    {
     "name": "stderr",
     "output_type": "stream",
     "text": [
      "/home/getz/PycharmProjects/CognitiveReflection/venv/lib/python3.8/site-packages/outdated/utils.py:14: OutdatedPackageWarning: The package outdated is out of date. Your version is 0.2.1, the latest is 0.2.2.\n",
      "Set the environment variable OUTDATED_IGNORE=1 to disable these warnings.\n",
      "  return warn(\n",
      "/home/getz/PycharmProjects/CognitiveReflection/venv/lib/python3.8/site-packages/outdated/utils.py:14: OutdatedPackageWarning: The package pingouin is out of date. Your version is 0.5.2, the latest is 0.5.3.\n",
      "Set the environment variable OUTDATED_IGNORE=1 to disable these warnings.\n",
      "  return warn(\n"
     ]
    }
   ],
   "source": [
    "import numpy as np\n",
    "import pandas as pd\n",
    "import seaborn as sns\n",
    "import pingouin as pg\n",
    "import os\n",
    "import matplotlib.pyplot as plt\n",
    "import matplotlib\n",
    "import json\n",
    "import ptitprince as pt\n",
    "font = {'family' : 'normal', 'weight': 'regular',\n",
    "        'size'   : 25}\n",
    "\n",
    "matplotlib.rc('font', **font)"
   ]
  },
  {
   "cell_type": "markdown",
   "metadata": {},
   "source": [
    "# Data cleaning"
   ]
  },
  {
   "cell_type": "markdown",
   "metadata": {},
   "source": [
    "### load data and parse in order to retrieve \"yes\"/\"no\" answers"
   ]
  },
  {
   "cell_type": "code",
   "execution_count": 59,
   "metadata": {},
   "outputs": [
    {
     "name": "stdout",
     "output_type": "stream",
     "text": [
      "Unclear proportion=0.0804093567251462\n",
      "Unclear proportion=0.07461692205196535\n",
      "Complete subjects=21\n"
     ]
    },
    {
     "name": "stderr",
     "output_type": "stream",
     "text": [
      "/tmp/ipykernel_42654/2571064934.py:36: UserWarning: This pattern has match groups. To actually get the groups, use str.extract.\n",
      "  df['yes'] = df['a'].str.contains(pat=r'\\b(yes)\\b', regex=True, case=False) | df['a'].str.contains(\n",
      "/tmp/ipykernel_42654/2571064934.py:38: UserWarning: This pattern has match groups. To actually get the groups, use str.extract.\n",
      "  df['no'] = df['a'].str.contains(pat=r'\\b(no)\\b', regex=True, case=False) | df['a'].str.contains(\n"
     ]
    }
   ],
   "source": [
    "class DF(pd.DataFrame):\n",
    "    def __init__(self, data):\n",
    "        super().__init__(data=data)\n",
    "\n",
    "    def avg_ind(self, groups):\n",
    "        return self.groupby(groups, as_index=False).mean()\n",
    "    \n",
    "class Dataset:\n",
    "    def __init__(self, gpt=None, human=None,\n",
    "                 gpt_unclear=None, human_unclear=None):\n",
    "        self.gpt = DF(gpt)\n",
    "        self.gpt_unclear = DF(gpt_unclear)\n",
    "        self.human_unclear = DF(human_unclear)\n",
    "        self.human = DF(human)\n",
    "        self.all = DF(pd.concat([gpt, human]))\n",
    "\n",
    "\n",
    "def get_data(path, label=None):\n",
    "\n",
    "    df = pd.read_csv(open(path, 'r'))\n",
    "    # df['a'] = df['a'].str.lower()\n",
    "\n",
    "    # exclude the \"why?\"\n",
    "    df = df[df['q_id'] == 0]\n",
    "    if not label:\n",
    "        df['exp'] = df['cond']\n",
    "        df['a'] = df['answer']\n",
    "    else:\n",
    "        df['exp'] = label\n",
    "        file = json.load(\n",
    "            open('data/greene/' + label + '.json', 'r'))\n",
    "        map_titles_id = {v['id']: v['title'] for v in file}\n",
    "        df['title'] = df['item_id'].map(map_titles_id)\n",
    "\n",
    "    # parse\n",
    "    df['yes'] = df['a'].str.contains(pat=r'\\b(yes)\\b', regex=True, case=False) | df['a'].str.contains(\n",
    "        pat=r'\\b(\\(A\\))\\b', regex=True, case=False)\n",
    "    df['no'] = df['a'].str.contains(pat=r'\\b(no)\\b', regex=True, case=False) | df['a'].str.contains(\n",
    "        pat=r'\\b(\\(B\\))\\b', regex=True, case=False)\n",
    "\n",
    "    df['unclear'] = df['yes'] == df['no']\n",
    "    df['val'] = None\n",
    "    df.loc[df['yes'] == 1, 'val'] = 'yes'\n",
    "    df.loc[df['no'] == 1, 'val'] = 'no'\n",
    "    df.loc[df['unclear'] == 1, 'val'] = 'unclear'\n",
    "\n",
    "    return df[df['unclear'] != 1], df\n",
    "\n",
    "\n",
    "# ------------------------------------------------------------------------------------- #\n",
    "# load gpt data\n",
    "# ------------------------------------------------------------------------------------- #\n",
    "foldernames_gpt = [\n",
    "    './GPT3/greene/non_moral-003_2022',\n",
    "    './GPT3/greene/impersonal_moral-003_2022',\n",
    "    './GPT3/greene/personal_moral-003_2022'\n",
    "]\n",
    "labels = ['non_moral', 'impersonal_moral', 'personal_moral']\n",
    "\n",
    "dfs = []\n",
    "dfs_with_unclear = []\n",
    "\n",
    "for foldername, l in zip(foldernames_gpt, labels):\n",
    "    d, d_with_unclear = get_data(path=foldername+'/results.csv', label=l)\n",
    "    dfs.append(d.copy())\n",
    "    dfs_with_unclear.append(d_with_unclear.copy())\n",
    "\n",
    "\n",
    "# ------------------------------------------------------------------------------------- #\n",
    "# load human data\n",
    "# ------------------------------------------------------------------------------------- #\n",
    "foldernames_humans = [\n",
    "    './HUMANS/moral_survey_2.csv'\n",
    "]\n",
    "\n",
    "dfs_ = []\n",
    "dfs_with_unclear_ = []\n",
    "\n",
    "for foldername, l in zip(foldernames_humans, labels):\n",
    "    d, d_with_unclear = get_data(path=foldername)\n",
    "    dfs_.append(d.copy())\n",
    "    dfs_with_unclear_.append(d_with_unclear.copy())\n",
    "\n",
    "ds = Dataset(\n",
    "    gpt=pd.concat(dfs), gpt_unclear=pd.concat(dfs_with_unclear),\n",
    "    human=pd.concat(dfs_), human_unclear=pd.concat(dfs_with_unclear_)\n",
    ")\n",
    "\n",
    "print('Unclear proportion=' +\n",
    "      str((ds.gpt_unclear['unclear'] == 1).sum()/len(ds.gpt)))\n",
    "print('Unclear proportion=' +\n",
    "      str((ds.human_unclear['unclear'] == 1).sum()/len(ds.human)))\n",
    "\n",
    "# ds.gpt[ds.gpt['title']=='sControl']\n",
    "ds.gpt['title'].unique()\n",
    "\n",
    "print('Complete subjects=' + str(sum(ds.human_unclear.prolific_id.value_counts()==62)))"
   ]
  },
  {
   "cell_type": "markdown",
   "metadata": {},
   "source": [
    "### Exclusions based on controls"
   ]
  },
  {
   "cell_type": "code",
   "execution_count": 4,
   "metadata": {},
   "outputs": [
    {
     "name": "stderr",
     "output_type": "stream",
     "text": [
      "/tmp/ipykernel_42654/3276358795.py:12: UserWarning: Pandas doesn't allow columns to be created via a new attribute name - see https://pandas.pydata.org/pandas-docs/stable/indexing.html#attribute-access\n",
      "  ds.human.data = df.copy()\n"
     ]
    }
   ],
   "source": [
    "df = ds.human\n",
    "\n",
    "controls = df[df['cond']=='control']\n",
    "#\n",
    "to_exclude = \\\n",
    "(controls[(controls['title']=='hControl') & (controls['val']!='no')]['prolific_id'].unique().tolist()\n",
    "+ controls[(controls['title']=='sControl') & (controls['val']!='yes')]['prolific_id'].unique().tolist())\n",
    "#\n",
    "df = df[~df['prolific_id'].isin(to_exclude)]\n",
    "df = df[df['cond']!='control']\n",
    "\n",
    "ds.human.data = df.copy()\n",
    "del df\n"
   ]
  },
  {
   "cell_type": "code",
   "execution_count": 18,
   "metadata": {},
   "outputs": [
    {
     "ename": "AttributeError",
     "evalue": "'DF' object has no attribute 'data'",
     "output_type": "error",
     "traceback": [
      "\u001b[0;31m---------------------------------------------------------------------------\u001b[0m",
      "\u001b[0;31mAttributeError\u001b[0m                            Traceback (most recent call last)",
      "\u001b[1;32m/home/getz/PycharmProjects/CognitiveReflection/analysis_green_.ipynb Cellule 7\u001b[0m in \u001b[0;36m<cell line: 1>\u001b[0;34m()\u001b[0m\n\u001b[0;32m----> <a href='vscode-notebook-cell:/home/getz/PycharmProjects/CognitiveReflection/analysis_green_.ipynb#X14sZmlsZQ%3D%3D?line=0'>1</a>\u001b[0m \u001b[39mlen\u001b[39m(ds\u001b[39m.\u001b[39;49mhuman\u001b[39m.\u001b[39;49mdata[\u001b[39m'\u001b[39m\u001b[39mprolific_id\u001b[39m\u001b[39m'\u001b[39m]\u001b[39m.\u001b[39munique())\n",
      "File \u001b[0;32m~/PycharmProjects/CognitiveReflection/venv/lib/python3.8/site-packages/pandas/core/generic.py:5487\u001b[0m, in \u001b[0;36mNDFrame.__getattr__\u001b[0;34m(self, name)\u001b[0m\n\u001b[1;32m   5480\u001b[0m \u001b[39mif\u001b[39;00m (\n\u001b[1;32m   5481\u001b[0m     name \u001b[39mnot\u001b[39;00m \u001b[39min\u001b[39;00m \u001b[39mself\u001b[39m\u001b[39m.\u001b[39m_internal_names_set\n\u001b[1;32m   5482\u001b[0m     \u001b[39mand\u001b[39;00m name \u001b[39mnot\u001b[39;00m \u001b[39min\u001b[39;00m \u001b[39mself\u001b[39m\u001b[39m.\u001b[39m_metadata\n\u001b[1;32m   5483\u001b[0m     \u001b[39mand\u001b[39;00m name \u001b[39mnot\u001b[39;00m \u001b[39min\u001b[39;00m \u001b[39mself\u001b[39m\u001b[39m.\u001b[39m_accessors\n\u001b[1;32m   5484\u001b[0m     \u001b[39mand\u001b[39;00m \u001b[39mself\u001b[39m\u001b[39m.\u001b[39m_info_axis\u001b[39m.\u001b[39m_can_hold_identifiers_and_holds_name(name)\n\u001b[1;32m   5485\u001b[0m ):\n\u001b[1;32m   5486\u001b[0m     \u001b[39mreturn\u001b[39;00m \u001b[39mself\u001b[39m[name]\n\u001b[0;32m-> 5487\u001b[0m \u001b[39mreturn\u001b[39;00m \u001b[39mobject\u001b[39;49m\u001b[39m.\u001b[39;49m\u001b[39m__getattribute__\u001b[39;49m(\u001b[39mself\u001b[39;49m, name)\n",
      "\u001b[0;31mAttributeError\u001b[0m: 'DF' object has no attribute 'data'"
     ]
    }
   ],
   "source": [
    "len(ds.human.data['prolific_id'].unique())"
   ]
  },
  {
   "cell_type": "markdown",
   "metadata": {},
   "source": [
    "# Define functions"
   ]
  },
  {
   "cell_type": "code",
   "execution_count": 5,
   "metadata": {},
   "outputs": [],
   "source": [
    "def raincloud(x, y, markersize, df):\n",
    "    # adding color\n",
    "    pal = \"Set2\"\n",
    "    # f, ax = plt.subplots(figsize=(5*2.5, 5*2.5))\n",
    "\n",
    "    ax = pt.half_violinplot(x=x, y=y, data=df, palette=pal, bw=.2, cut=0., linewidth=1.5, edgecolor=\"white\", \n",
    "                            scale=\"area\", width=.8, inner=None, orient='v', zorder=1)\n",
    "\n",
    "    ax = sns.stripplot(x=x, y=y, data=df, palette=pal, edgecolor=\"black\", alpha=0.9, linewidth=1,\n",
    "                       size=markersize, orient='v', zorder=2, jitter=1)\n",
    "\n",
    "\n",
    "    ax2 = sns.pointplot(x=x, y=y, data=df, color='black',  join=False, errorbar='se', linewidth=1, edgecolor='black', capsize=.1, zorder=3, bw=.5)\n",
    "\n",
    "    \n",
    "def box_same_color(ax2):\n",
    "    box_patches = [patch for patch in ax2.patches if type(\n",
    "        patch) == matplotlib.patches.PathPatch]\n",
    "\n",
    "\n",
    "    if len(box_patches) == 0:  # in matplotlib older than 3.5, the boxes are stored in ax2.artists\n",
    "        box_patches = ax2.artists\n",
    "    num_patches = len(box_patches)\n",
    "    lines_per_boxplot = len(ax2.lines) // num_patches\n",
    "    for i, patch in enumerate(box_patches):\n",
    "        # Set the linecolor on the patch to the facecolor, and set the facecolor to None\n",
    "        col = patch.get_facecolor()\n",
    "        patch.set_edgecolor(col)\n",
    "        patch.set_facecolor('None')\n",
    "\n",
    "        # Each box has associated Line2D objects (to make the whiskers, fliers, etc.)\n",
    "        # Loop over them here, and use the same color as above\n",
    "        for line in ax2.lines[i * lines_per_boxplot: (i + 1) * lines_per_boxplot]:\n",
    "            line.set_color(col)\n",
    "            line.set_mfc(col)  # facecolor of fliers\n",
    "            line.set_mec(col)  # edgecolor of fliers\n",
    "# "
   ]
  },
  {
   "cell_type": "markdown",
   "metadata": {},
   "source": [
    "# Fig 1"
   ]
  },
  {
   "cell_type": "code",
   "execution_count": 6,
   "metadata": {},
   "outputs": [
    {
     "name": "stderr",
     "output_type": "stream",
     "text": [
      "/tmp/ipykernel_42654/770586084.py:7: DeprecationWarning: `set_matplotlib_formats` is deprecated since IPython 7.23, directly use `matplotlib_inline.backend_inline.set_matplotlib_formats()`\n",
      "  set_matplotlib_formats('png')\n"
     ]
    },
    {
     "data": {
      "image/png": "[encoded data removed]",
      "text/plain": [
       "<Figure size 432x288 with 1 Axes>"
      ]
     },
     "metadata": {
      "needs_background": "light"
     },
     "output_type": "display_data"
    }
   ],
   "source": [
    "# sns.set(rc={'figure.figsize':(,10), \"figure.dpi\": 300, 'legend.fontsize': 20,  'xtick.labelsize': 11, 'ytick.labelsize': 20, 'font.family': 'sans-serif', 'font.sans-serif': 'Arial', 'text.usetex': False})\n",
    "# sns.set_style(\"ticks\")\n",
    "\n",
    "sns.set(rc={'figure.figsize':(6,10)})\n",
    "\n",
    "from IPython.display import set_matplotlib_formats\n",
    "set_matplotlib_formats('png')\n",
    "\n",
    "plt.rcParams['ytick.major.width'] = 2.5\n",
    "order = ['non_moral', 'impersonal_moral', 'personal_moral']\n",
    "\n",
    "\n",
    "#df = ds.gpt.avg_ind(['iter', 'exp'])\n",
    "#plt.subplot(1, 2, 1)\n",
    "#sns.barplot(x='exp', y='yes', data=df, alpha=.6, errwidth=0, zorder=1, order=order)\n",
    "#sns.stripplot(x='exp', y='yes', data=df, size=10, linewidth=1.2, zorder=2, edgecolor='white', jitter=True, order=order)\n",
    "#sns.pointplot(x='exp', y='yes', data=df, color='black',  join=False, ci=68, linewidth=1, edgecolor='white', capsize=0, zorder=3, scale=0, order=order)\n",
    "## raincloud(x='exp', y='yes', markersize=9, df=df)\n",
    "#x_lim = plt.gca().get_xlim()\n",
    "#plt.plot(x_lim, [.5, .5], ls='--', color='gray', zorder=0)\n",
    "#plt.ylim(-.02, 1.02)\n",
    "#plt.ylabel('Endorsement', fontsize=20)\n",
    "#plt.xticks(labels=order, ticks=[0, 1, 2])\n",
    "#plt.title('GPT-3', fontsize=20)\n",
    "#plt.tick_params(bottom=False)\n",
    "#plt.gca().spines['left'].set_linewidth(2.5)\n",
    "# \n",
    "# plt.subplot(1, 2, 2)\n",
    "df = ds.human.avg_ind(['prolific_id', 'exp'])\n",
    "sns.barplot(x='exp', y='yes', data=df, alpha=.6, errwidth=0, zorder=1, order=order)\n",
    "sns.stripplot(x='exp', y='yes', data=df, size=10, linewidth=1.2, zorder=2, edgecolor='white', jitter=True, order=order)\n",
    "sns.pointplot(x='exp', y='yes', data=df, color='black',  join=False, ci=68, linewidth=1, edgecolor='white', capsize=0, zorder=3, scale=0, order=order)\n",
    "# raincloud(x='exp', y='yes', markersize=9, df=df2)\n",
    "x_lim = plt.gca().get_xlim()\n",
    "plt.plot(x_lim, [.5, .5], ls='--', color='gray', zorder=0)\n",
    "# plt.ylim(0, 1)\n",
    "plt.ylim(-.02, 1.02)\n",
    "plt.ylabel('')\n",
    "plt.title('Humans', fontsize=20)\n",
    "plt.xticks(labels=order, ticks=[0, 1, 2])\n",
    "plt.tick_params(bottom=False)\n",
    "#\n",
    "sns.despine(offset=10, trim=True, bottom=True)\n",
    "plt.gca().spines['left'].set_linewidth(2.5)\n",
    "\n"
   ]
  },
  {
   "cell_type": "code",
   "execution_count": 7,
   "metadata": {},
   "outputs": [
    {
     "ename": "ValueError",
     "evalue": "Could not interpret value `val` for parameter `x`",
     "output_type": "error",
     "traceback": [
      "\u001b[0;31m---------------------------------------------------------------------------\u001b[0m",
      "\u001b[0;31mValueError\u001b[0m                                Traceback (most recent call last)",
      "\u001b[1;32m/home/getz/PycharmProjects/CognitiveReflection/analysis_green_.ipynb Cellule 11\u001b[0m in \u001b[0;36m<cell line: 7>\u001b[0;34m()\u001b[0m\n\u001b[1;32m      <a href='vscode-notebook-cell:/home/getz/PycharmProjects/CognitiveReflection/analysis_green_.ipynb#X13sZmlsZQ%3D%3D?line=5'>6</a>\u001b[0m \u001b[39m# Draw a nested barplot by species and sex\u001b[39;00m\n\u001b[1;32m      <a href='vscode-notebook-cell:/home/getz/PycharmProjects/CognitiveReflection/analysis_green_.ipynb#X13sZmlsZQ%3D%3D?line=6'>7</a>\u001b[0m \u001b[39mfor\u001b[39;00m e, ax \u001b[39min\u001b[39;00m \u001b[39mzip\u001b[39m(exp, axes\u001b[39m.\u001b[39mflat):\n\u001b[0;32m----> <a href='vscode-notebook-cell:/home/getz/PycharmProjects/CognitiveReflection/analysis_green_.ipynb#X13sZmlsZQ%3D%3D?line=7'>8</a>\u001b[0m     sns\u001b[39m.\u001b[39;49mhistplot(\n\u001b[1;32m      <a href='vscode-notebook-cell:/home/getz/PycharmProjects/CognitiveReflection/analysis_green_.ipynb#X13sZmlsZQ%3D%3D?line=8'>9</a>\u001b[0m         x\u001b[39m=\u001b[39;49m\u001b[39m'\u001b[39;49m\u001b[39mval\u001b[39;49m\u001b[39m'\u001b[39;49m, data\u001b[39m=\u001b[39;49mdf[df[\u001b[39m'\u001b[39;49m\u001b[39mexp\u001b[39;49m\u001b[39m'\u001b[39;49m]\u001b[39m==\u001b[39;49me], hue\u001b[39m=\u001b[39;49m\u001b[39m'\u001b[39;49m\u001b[39mval\u001b[39;49m\u001b[39m'\u001b[39;49m, hue_order\u001b[39m=\u001b[39;49m[\u001b[39m'\u001b[39;49m\u001b[39myes\u001b[39;49m\u001b[39m'\u001b[39;49m, \u001b[39m'\u001b[39;49m\u001b[39mno\u001b[39;49m\u001b[39m'\u001b[39;49m, \u001b[39m'\u001b[39;49m\u001b[39munclear\u001b[39;49m\u001b[39m'\u001b[39;49m], stat\u001b[39m=\u001b[39;49m\u001b[39m'\u001b[39;49m\u001b[39mprobability\u001b[39;49m\u001b[39m'\u001b[39;49m, alpha\u001b[39m=\u001b[39;49m\u001b[39m.8\u001b[39;49m, ax\u001b[39m=\u001b[39;49max)\n\u001b[1;32m     <a href='vscode-notebook-cell:/home/getz/PycharmProjects/CognitiveReflection/analysis_green_.ipynb#X13sZmlsZQ%3D%3D?line=9'>10</a>\u001b[0m     ax\u001b[39m.\u001b[39mset_ylim(\u001b[39m0\u001b[39m,\u001b[39m1\u001b[39m)\n\u001b[1;32m     <a href='vscode-notebook-cell:/home/getz/PycharmProjects/CognitiveReflection/analysis_green_.ipynb#X13sZmlsZQ%3D%3D?line=10'>11</a>\u001b[0m     ax\u001b[39m.\u001b[39mset_yticks(np\u001b[39m.\u001b[39marange(\u001b[39m0\u001b[39m, \u001b[39m11\u001b[39m)\u001b[39m/\u001b[39m\u001b[39m10\u001b[39m)\n",
      "File \u001b[0;32m~/PycharmProjects/CognitiveReflection/venv/lib/python3.8/site-packages/seaborn/distributions.py:1430\u001b[0m, in \u001b[0;36mhistplot\u001b[0;34m(data, x, y, hue, weights, stat, bins, binwidth, binrange, discrete, cumulative, common_bins, common_norm, multiple, element, fill, shrink, kde, kde_kws, line_kws, thresh, pthresh, pmax, cbar, cbar_ax, cbar_kws, palette, hue_order, hue_norm, color, log_scale, legend, ax, **kwargs)\u001b[0m\n\u001b[1;32m   1409\u001b[0m \u001b[39mdef\u001b[39;00m \u001b[39mhistplot\u001b[39m(\n\u001b[1;32m   1410\u001b[0m     data\u001b[39m=\u001b[39m\u001b[39mNone\u001b[39;00m, \u001b[39m*\u001b[39m,\n\u001b[1;32m   1411\u001b[0m     \u001b[39m# Vector variables\u001b[39;00m\n\u001b[0;32m   (...)\u001b[0m\n\u001b[1;32m   1427\u001b[0m     \u001b[39m*\u001b[39m\u001b[39m*\u001b[39mkwargs,\n\u001b[1;32m   1428\u001b[0m ):\n\u001b[0;32m-> 1430\u001b[0m     p \u001b[39m=\u001b[39m _DistributionPlotter(\n\u001b[1;32m   1431\u001b[0m         data\u001b[39m=\u001b[39;49mdata,\n\u001b[1;32m   1432\u001b[0m         variables\u001b[39m=\u001b[39;49m_DistributionPlotter\u001b[39m.\u001b[39;49mget_semantics(\u001b[39mlocals\u001b[39;49m())\n\u001b[1;32m   1433\u001b[0m     )\n\u001b[1;32m   1435\u001b[0m     p\u001b[39m.\u001b[39mmap_hue(palette\u001b[39m=\u001b[39mpalette, order\u001b[39m=\u001b[39mhue_order, norm\u001b[39m=\u001b[39mhue_norm)\n\u001b[1;32m   1437\u001b[0m     \u001b[39mif\u001b[39;00m ax \u001b[39mis\u001b[39;00m \u001b[39mNone\u001b[39;00m:\n",
      "File \u001b[0;32m~/PycharmProjects/CognitiveReflection/venv/lib/python3.8/site-packages/seaborn/distributions.py:111\u001b[0m, in \u001b[0;36m_DistributionPlotter.__init__\u001b[0;34m(self, data, variables)\u001b[0m\n\u001b[1;32m    105\u001b[0m \u001b[39mdef\u001b[39;00m \u001b[39m__init__\u001b[39m(\n\u001b[1;32m    106\u001b[0m     \u001b[39mself\u001b[39m,\n\u001b[1;32m    107\u001b[0m     data\u001b[39m=\u001b[39m\u001b[39mNone\u001b[39;00m,\n\u001b[1;32m    108\u001b[0m     variables\u001b[39m=\u001b[39m{},\n\u001b[1;32m    109\u001b[0m ):\n\u001b[0;32m--> 111\u001b[0m     \u001b[39msuper\u001b[39;49m()\u001b[39m.\u001b[39;49m\u001b[39m__init__\u001b[39;49m(data\u001b[39m=\u001b[39;49mdata, variables\u001b[39m=\u001b[39;49mvariables)\n",
      "File \u001b[0;32m~/PycharmProjects/CognitiveReflection/venv/lib/python3.8/site-packages/seaborn/_core.py:605\u001b[0m, in \u001b[0;36mVectorPlotter.__init__\u001b[0;34m(self, data, variables)\u001b[0m\n\u001b[1;32m    603\u001b[0m \u001b[39mdef\u001b[39;00m \u001b[39m__init__\u001b[39m(\u001b[39mself\u001b[39m, data\u001b[39m=\u001b[39m\u001b[39mNone\u001b[39;00m, variables\u001b[39m=\u001b[39m{}):\n\u001b[0;32m--> 605\u001b[0m     \u001b[39mself\u001b[39;49m\u001b[39m.\u001b[39;49massign_variables(data, variables)\n\u001b[1;32m    607\u001b[0m     \u001b[39mfor\u001b[39;00m var, \u001b[39mcls\u001b[39m \u001b[39min\u001b[39;00m \u001b[39mself\u001b[39m\u001b[39m.\u001b[39m_semantic_mappings\u001b[39m.\u001b[39mitems():\n\u001b[1;32m    608\u001b[0m \n\u001b[1;32m    609\u001b[0m         \u001b[39m# Create the mapping function\u001b[39;00m\n\u001b[1;32m    610\u001b[0m         map_func \u001b[39m=\u001b[39m partial(\u001b[39mcls\u001b[39m\u001b[39m.\u001b[39mmap, plotter\u001b[39m=\u001b[39m\u001b[39mself\u001b[39m)\n",
      "File \u001b[0;32m~/PycharmProjects/CognitiveReflection/venv/lib/python3.8/site-packages/seaborn/_core.py:668\u001b[0m, in \u001b[0;36mVectorPlotter.assign_variables\u001b[0;34m(self, data, variables)\u001b[0m\n\u001b[1;32m    666\u001b[0m \u001b[39melse\u001b[39;00m:\n\u001b[1;32m    667\u001b[0m     \u001b[39mself\u001b[39m\u001b[39m.\u001b[39minput_format \u001b[39m=\u001b[39m \u001b[39m\"\u001b[39m\u001b[39mlong\u001b[39m\u001b[39m\"\u001b[39m\n\u001b[0;32m--> 668\u001b[0m     plot_data, variables \u001b[39m=\u001b[39m \u001b[39mself\u001b[39;49m\u001b[39m.\u001b[39;49m_assign_variables_longform(\n\u001b[1;32m    669\u001b[0m         data, \u001b[39m*\u001b[39;49m\u001b[39m*\u001b[39;49mvariables,\n\u001b[1;32m    670\u001b[0m     )\n\u001b[1;32m    672\u001b[0m \u001b[39mself\u001b[39m\u001b[39m.\u001b[39mplot_data \u001b[39m=\u001b[39m plot_data\n\u001b[1;32m    673\u001b[0m \u001b[39mself\u001b[39m\u001b[39m.\u001b[39mvariables \u001b[39m=\u001b[39m variables\n",
      "File \u001b[0;32m~/PycharmProjects/CognitiveReflection/venv/lib/python3.8/site-packages/seaborn/_core.py:903\u001b[0m, in \u001b[0;36mVectorPlotter._assign_variables_longform\u001b[0;34m(self, data, **kwargs)\u001b[0m\n\u001b[1;32m    898\u001b[0m \u001b[39melif\u001b[39;00m \u001b[39misinstance\u001b[39m(val, (\u001b[39mstr\u001b[39m, \u001b[39mbytes\u001b[39m)):\n\u001b[1;32m    899\u001b[0m \n\u001b[1;32m    900\u001b[0m     \u001b[39m# This looks like a column name but we don't know what it means!\u001b[39;00m\n\u001b[1;32m    902\u001b[0m     err \u001b[39m=\u001b[39m \u001b[39mf\u001b[39m\u001b[39m\"\u001b[39m\u001b[39mCould not interpret value `\u001b[39m\u001b[39m{\u001b[39;00mval\u001b[39m}\u001b[39;00m\u001b[39m` for parameter `\u001b[39m\u001b[39m{\u001b[39;00mkey\u001b[39m}\u001b[39;00m\u001b[39m`\u001b[39m\u001b[39m\"\u001b[39m\n\u001b[0;32m--> 903\u001b[0m     \u001b[39mraise\u001b[39;00m \u001b[39mValueError\u001b[39;00m(err)\n\u001b[1;32m    905\u001b[0m \u001b[39melse\u001b[39;00m:\n\u001b[1;32m    906\u001b[0m \n\u001b[1;32m    907\u001b[0m     \u001b[39m# Otherwise, assume the value is itself data\u001b[39;00m\n\u001b[1;32m    908\u001b[0m \n\u001b[1;32m    909\u001b[0m     \u001b[39m# Raise when data object is present and a vector can't matched\u001b[39;00m\n\u001b[1;32m    910\u001b[0m     \u001b[39mif\u001b[39;00m \u001b[39misinstance\u001b[39m(data, pd\u001b[39m.\u001b[39mDataFrame) \u001b[39mand\u001b[39;00m \u001b[39mnot\u001b[39;00m \u001b[39misinstance\u001b[39m(val, pd\u001b[39m.\u001b[39mSeries):\n",
      "\u001b[0;31mValueError\u001b[0m: Could not interpret value `val` for parameter `x`"
     ]
    },
    {
     "data": {
      "image/png": "[encoded data removed]",
      "text/plain": [
       "<Figure size 1080x720 with 4 Axes>"
      ]
     },
     "metadata": {},
     "output_type": "display_data"
    }
   ],
   "source": [
    "sns.set(rc={'figure.figsize':(15,10)})\n",
    "\n",
    "exp = df['exp'].unique()\n",
    "# df = df[df['unclear']!=1]\n",
    "fig, axes = plt.subplots(nrows=1, ncols=len(exp))\n",
    "# Draw a nested barplot by species and sex\n",
    "for e, ax in zip(exp, axes.flat):\n",
    "    sns.histplot(\n",
    "        x='val', data=df[df['exp']==e], hue='val', hue_order=['yes', 'no', 'unclear'], stat='probability', alpha=.8, ax=ax)\n",
    "    ax.set_ylim(0,1)\n",
    "    ax.set_yticks(np.arange(0, 11)/10)\n",
    "    ax.set_title(e)\n",
    "# sns.displot(x='val', data=df, col='exp', hue='val', stat='probability', alpha=.8)\n",
    "# sns.displot(x='val', data=df, col='exp', hue='val', stat='probability', alpha=.8)"
   ]
  }
 ],
 "metadata": {
  "kernelspec": {
   "display_name": "Python 3.8.10 ('venv': venv)",
   "language": "python",
   "name": "python3"
  },
  "language_info": {
   "codemirror_mode": {
    "name": "ipython",
    "version": 3
   },
   "file_extension": ".py",
   "mimetype": "text/x-python",
   "name": "python",
   "nbconvert_exporter": "python",
   "pygments_lexer": "ipython3",
   "version": "3.8.10"
  },
  "orig_nbformat": 4,
  "vscode": {
   "interpreter": {
    "hash": "d1d5f5d24c0beaf0f21a912d572161c07ffcd5b3d25f5387b55cec2718b20cad"
   }
  }
 },
 "nbformat": 4,
 "nbformat_minor": 2
}
